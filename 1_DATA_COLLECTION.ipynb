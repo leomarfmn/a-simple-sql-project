{
  "nbformat": 4,
  "nbformat_minor": 0,
  "metadata": {
    "colab": {
      "name": "1. DATA COLLECTION.ipynb",
      "provenance": [],
      "collapsed_sections": [
        "R9z21b6rMP5k",
        "q8K356kWMW62",
        "rvZVMAj6QuED",
        "RMx3oJZePn4l",
        "OHCrCzmhXSnu",
        "CipMUZ19XXNv"
      ],
      "authorship_tag": "ABX9TyPgzij2nXwcBoFjyi9GtmmR",
      "include_colab_link": true
    },
    "kernelspec": {
      "name": "python3",
      "display_name": "Python 3"
    },
    "language_info": {
      "name": "python"
    }
  },
  "cells": [
    {
      "cell_type": "markdown",
      "metadata": {
        "id": "view-in-github",
        "colab_type": "text"
      },
      "source": [
        "<a href=\"https://colab.research.google.com/github/leomarfmn/a-simple-sql-project/blob/main/1_DATA_COLLECTION.ipynb\" target=\"_parent\"><img src=\"https://colab.research.google.com/assets/colab-badge.svg\" alt=\"Open In Colab\"/></a>"
      ]
    },
    {
      "cell_type": "markdown",
      "source": [
        "# **A SIMPLE SQL PROJECT** (1. DATA COLLECTION)\n",
        "\n",
        "---\n",
        "\n"
      ],
      "metadata": {
        "id": "OyygNG33wpQt"
      }
    },
    {
      "cell_type": "markdown",
      "source": [
        "### **1.1 IMPORTS**"
      ],
      "metadata": {
        "id": "R9z21b6rMP5k"
      }
    },
    {
      "cell_type": "code",
      "execution_count": 1,
      "metadata": {
        "id": "8SGSqaI9L9LO"
      },
      "outputs": [],
      "source": [
        "import pandas as pd               #dataframe manipulation\n",
        "import numpy as np                #creating Nan values\n",
        "import json                       #parsing and reading json\n",
        "import requests                   #API access\n",
        "import time                       #time.sleep on API loop"
      ]
    },
    {
      "cell_type": "markdown",
      "source": [
        "### **1.2 UPLOAD SPOTIFY FILE INTO NOTEBOOK**\n",
        "In this section, the streaming history file from Spotify is loaded and transformed into a pandas dataframe. Only the history from March, April and May 2022 is kept, since the API requests are limited, as explained in the README file. Also, the extra columns for data expansion are created."
      ],
      "metadata": {
        "id": "q8K356kWMW62"
      }
    },
    {
      "cell_type": "code",
      "source": [
        "filename = '/content/StreamingHistory0.json'\n",
        "with open(filename) as f:\n",
        "   data = json.load(f)"
      ],
      "metadata": {
        "id": "UFdskRWHMT2k"
      },
      "execution_count": 2,
      "outputs": []
    },
    {
      "cell_type": "code",
      "source": [
        "df = pd.DataFrame(columns = ['endTime','artistName', 'trackName', 'msPlayed'])\n",
        "for i in range(len(data)):\n",
        "  df.loc[len(df.index)] = data[i].values()"
      ],
      "metadata": {
        "id": "S5FMiA6cfsCS"
      },
      "execution_count": 3,
      "outputs": []
    },
    {
      "cell_type": "code",
      "source": [
        "df['endTime'] = pd.to_datetime(df['endTime'])\n",
        "df = df[(df['endTime'].dt.to_period('M') == '2022-05') | (df['endTime'].dt.to_period('M') == '2022-04') | (df['endTime'].dt.to_period('M') == '2022-03')]"
      ],
      "metadata": {
        "id": "1RboYC1afr1K"
      },
      "execution_count": 4,
      "outputs": []
    },
    {
      "cell_type": "code",
      "source": [
        "df['trackID'] = ''\n",
        "df['albumID'] = ''\n",
        "df['genre'] = ''\n",
        "df['duration'] = ''\n",
        "df['albumName'] = ''\n",
        "df['artistID'] = ''\n",
        "df.reset_index(inplace=True, drop=True)"
      ],
      "metadata": {
        "id": "ILh9rpWnfqxu"
      },
      "execution_count": null,
      "outputs": []
    },
    {
      "cell_type": "markdown",
      "source": [
        "### **1.3 FUNCTION TO CREATE API REQUESTS**\n",
        "The API requests and daily limit (quota) management were performed using RapidAPI. The key used was omitted for safety purposes and the indexes passed as arguments to the function were used for free quota control, but are not mandatory.\n"
      ],
      "metadata": {
        "id": "rvZVMAj6QuED"
      }
    },
    {
      "cell_type": "code",
      "source": [
        "def api_request(df, initial_index, final_index):\n",
        "\n",
        "  url = \"https://theaudiodb.p.rapidapi.com/searchtrack.php\"\n",
        "  headers = {\n",
        "  \"X-RapidAPI-Key\": \"\", # Insert key here\n",
        "  \"X-RapidAPI-Host\": \"theaudiodb.p.rapidapi.com\"\n",
        "  }\n",
        "\n",
        "  if final_index > projectfile.shape[0]:\n",
        "    final_index = projectfile.shape[0]\n",
        "\n",
        "  for i in range(initial_index,final_index,1):\n",
        "\n",
        "    # BUILD SEARCH PARAMETERS\n",
        "    querystring = {\"s\": df.loc[i,'artistName'], \"t\": df.loc[i,'trackName']}\n",
        "    print(querystring)\n",
        "\n",
        "\n",
        "    # TAKE BREAK BETWEEN REQUESTS\n",
        "    time.sleep(3)\n",
        "\n",
        "\n",
        "    # API REQUEST AND RESPONSE FORMATTING\n",
        "    response = requests.request(\"GET\", url, headers=headers, params=querystring)\n",
        "    parsed_response = json.loads(response.text)\n",
        "\n",
        "\n",
        "    # SAVE DATA FROM RESPONSE\n",
        "    try:\n",
        "      df.loc[i,'trackID'] = parsed_response['track'][0]['idTrack']\n",
        "    except:\n",
        "      df.loc[i,'trackID'] = np.nan\n",
        "      \n",
        "    try:\n",
        "      df.loc[i,'albumID'] = parsed_response['track'][0]['idAlbum']\n",
        "    except:\n",
        "      df.loc[i,'albumID'] = np.nan\n",
        "      \n",
        "    try:\n",
        "      df.loc[i,'genre'] = parsed_response['track'][0]['strGenre']\n",
        "    except:\n",
        "      df.loc[i,'genre'] = np.nan\n",
        "      \n",
        "    try:\n",
        "      df.loc[i,'duration'] = parsed_response['track'][0]['intDuration']\n",
        "    except:\n",
        "      df.loc[i,'duration'] = np.nan\n",
        "      \n",
        "    try:\n",
        "      df.loc[i,'albumName'] = parsed_response['track'][0]['strAlbum']\n",
        "    except:\n",
        "      df.loc[i,'albumName'] = np.nan\n",
        "      \n",
        "    try:\n",
        "      df.loc[i,'artistID'] = parsed_response['track'][0]['idArtist']\n",
        "    except:\n",
        "      df.loc[i,'artistID'] = np.nan\n",
        "      "
      ],
      "metadata": {
        "id": "Zp_Z-HGWMWYV"
      },
      "execution_count": 12,
      "outputs": []
    },
    {
      "cell_type": "markdown",
      "source": [
        "### **1.4 FIGURE WHERE TO START REQUESTS ON THE DATA FRAME**\n",
        "Used for quota control."
      ],
      "metadata": {
        "id": "RMx3oJZePn4l"
      }
    },
    {
      "cell_type": "code",
      "source": [
        "# When using quota control, one might need to perform batch API requests on multiple days. And, because of that, one will also need to save and reuse files, as well as\n",
        "# keeping track of where to begin requests the next day. The process of reinserting .csv files is straightforward, however, empty cells are also filled with 'Nan\" when\n",
        "# the files are saved. The lines of code below constitute a simple method of substituting non-desired 'Nan' files with empty strings in order to figure out which data \n",
        "# should then be requested.\n",
        "\n",
        "projectfile = pd.concat([df[:634],df[634:].fillna('')])                    #634 should be read as placeholder\n",
        "initial_index = projectfile.loc[projectfile['trackID'] == ''].index[0]     #initial_index is the first row where trackID equals to an empty string\n",
        "final_index = initial_index + 98                                           #final_index is the initial_index plus a chosen number\n",
        "print(initial_index, final_index)"
      ],
      "metadata": {
        "id": "BZS3DedqMWaI",
        "colab": {
          "base_uri": "https://localhost:8080/"
        },
        "outputId": "c38f0e28-b00d-41a4-ed36-ef5588a37eab"
      },
      "execution_count": 7,
      "outputs": [
        {
          "output_type": "stream",
          "name": "stdout",
          "text": [
            "0 98\n"
          ]
        }
      ]
    },
    {
      "cell_type": "code",
      "source": [
        "# When not using quota control:\n",
        "'''projectfile = df\n",
        "initial_index = 0\n",
        "final_index = projecfile.shape[0]'''"
      ],
      "metadata": {
        "id": "ZvKJvkiw5R6d"
      },
      "execution_count": null,
      "outputs": []
    },
    {
      "cell_type": "markdown",
      "source": [
        "### **1.5 SEND API REQUESTS**\n",
        "\n",
        "\n"
      ],
      "metadata": {
        "id": "OHCrCzmhXSnu"
      }
    },
    {
      "cell_type": "code",
      "source": [
        "api_request(projectfile, initial_index, final_index)"
      ],
      "metadata": {
        "id": "MShi_ICtMWeK",
        "colab": {
          "base_uri": "https://localhost:8080/"
        },
        "outputId": "ef1af05c-4117-4182-b4c9-6f81ea1fac93"
      },
      "execution_count": 13,
      "outputs": [
        {
          "output_type": "stream",
          "name": "stdout",
          "text": [
            "{'s': 'Nirvana', 't': 'Lithium'}\n",
            "{'s': 'The Killers', 't': 'Mr. Brightside'}\n",
            "{'s': 'Arctic Monkeys', 't': 'When The Sun Goes Down'}\n",
            "{'s': 'Arctic Monkeys', 't': \"Why'd You Only Call Me When You're High?\"}\n",
            "{'s': 'Arctic Monkeys', 't': 'Do I Wanna Know?'}\n"
          ]
        }
      ]
    },
    {
      "cell_type": "markdown",
      "source": [
        "### **1.6 CHECK DATAFRAME AND SAVE FILE**\n",
        "Checks file after API requests and saves it to a new file, so it can be used on \"2. SQL DATABASE\""
      ],
      "metadata": {
        "id": "CipMUZ19XXNv"
      }
    },
    {
      "cell_type": "code",
      "source": [
        "projectfile"
      ],
      "metadata": {
        "colab": {
          "base_uri": "https://localhost:8080/",
          "height": 419
        },
        "id": "G1kUfEv3UyYQ",
        "outputId": "a92065fd-8014-40ea-a861-859e34431957"
      },
      "execution_count": 15,
      "outputs": [
        {
          "output_type": "execute_result",
          "data": {
            "text/plain": [
              "     Unnamed: 0              endTime      artistName  \\\n",
              "0             0  2022-03-02 20:52:00          Eminem   \n",
              "1             1  2022-03-02 20:52:00          Eminem   \n",
              "2             2  2022-03-02 20:55:00         Piso 21   \n",
              "3             3  2022-03-02 21:48:00         Piso 21   \n",
              "4             4  2022-03-02 21:59:00         Piso 21   \n",
              "..          ...                  ...             ...   \n",
              "677         677  2022-05-31 19:10:00         Nirvana   \n",
              "678         678  2022-05-31 19:13:00     The Killers   \n",
              "679         679  2022-05-31 19:16:00  Arctic Monkeys   \n",
              "680         680  2022-05-31 19:16:00  Arctic Monkeys   \n",
              "681         681  2022-05-31 19:21:00  Arctic Monkeys   \n",
              "\n",
              "                                    trackName     trackID    albumID    genre  \\\n",
              "0                               Lose Yourself  32925676.0  2126328.0  Hip-Hop   \n",
              "1                               Lose Yourself  32925676.0  2126328.0  Hip-Hop   \n",
              "2                          Puntos Suspensivos         NaN        NaN      NaN   \n",
              "3                                   Me Llamas         NaN        NaN      NaN   \n",
              "4                          Puntos Suspensivos         NaN        NaN      NaN   \n",
              "..                                        ...         ...        ...      ...   \n",
              "677                                   Lithium  32736471.0  2110839.0   Grunge   \n",
              "678                            Mr. Brightside  33550031.0  2177412.0    Indie   \n",
              "679                    When The Sun Goes Down  32769407.0  2113920.0    Indie   \n",
              "680  Why'd You Only Call Me When You're High?  33584144.0  2180196.0    Indie   \n",
              "681                          Do I Wanna Know?  33584136.0  2180196.0    Indie   \n",
              "\n",
              "     duration                                      albumName  artistID  \n",
              "0    326466.0                         Curtain Call: The Hits  111304.0  \n",
              "1    326466.0                         Curtain Call: The Hits  111304.0  \n",
              "2         NaN                                            NaN       NaN  \n",
              "3         NaN                                            NaN       NaN  \n",
              "4         NaN                                            NaN       NaN  \n",
              "..        ...                                            ...       ...  \n",
              "677  256000.0                                      Nevermind  111319.0  \n",
              "678  222586.0                                       Hot Fuss  112016.0  \n",
              "679  200000.0  Whatever People Say I Am, That's What I'm Not  111644.0  \n",
              "680  161000.0                                             AM  111644.0  \n",
              "681  272000.0                                             AM  111644.0  \n",
              "\n",
              "[682 rows x 10 columns]"
            ],
            "text/html": [
              "\n",
              "  <div id=\"df-e2066e81-5ead-45f9-af1c-a4a648002376\">\n",
              "    <div class=\"colab-df-container\">\n",
              "      <div>\n",
              "<style scoped>\n",
              "    .dataframe tbody tr th:only-of-type {\n",
              "        vertical-align: middle;\n",
              "    }\n",
              "\n",
              "    .dataframe tbody tr th {\n",
              "        vertical-align: top;\n",
              "    }\n",
              "\n",
              "    .dataframe thead th {\n",
              "        text-align: right;\n",
              "    }\n",
              "</style>\n",
              "<table border=\"1\" class=\"dataframe\">\n",
              "  <thead>\n",
              "    <tr style=\"text-align: right;\">\n",
              "      <th></th>\n",
              "      <th>Unnamed: 0</th>\n",
              "      <th>endTime</th>\n",
              "      <th>artistName</th>\n",
              "      <th>trackName</th>\n",
              "      <th>trackID</th>\n",
              "      <th>albumID</th>\n",
              "      <th>genre</th>\n",
              "      <th>duration</th>\n",
              "      <th>albumName</th>\n",
              "      <th>artistID</th>\n",
              "    </tr>\n",
              "  </thead>\n",
              "  <tbody>\n",
              "    <tr>\n",
              "      <th>0</th>\n",
              "      <td>0</td>\n",
              "      <td>2022-03-02 20:52:00</td>\n",
              "      <td>Eminem</td>\n",
              "      <td>Lose Yourself</td>\n",
              "      <td>32925676.0</td>\n",
              "      <td>2126328.0</td>\n",
              "      <td>Hip-Hop</td>\n",
              "      <td>326466.0</td>\n",
              "      <td>Curtain Call: The Hits</td>\n",
              "      <td>111304.0</td>\n",
              "    </tr>\n",
              "    <tr>\n",
              "      <th>1</th>\n",
              "      <td>1</td>\n",
              "      <td>2022-03-02 20:52:00</td>\n",
              "      <td>Eminem</td>\n",
              "      <td>Lose Yourself</td>\n",
              "      <td>32925676.0</td>\n",
              "      <td>2126328.0</td>\n",
              "      <td>Hip-Hop</td>\n",
              "      <td>326466.0</td>\n",
              "      <td>Curtain Call: The Hits</td>\n",
              "      <td>111304.0</td>\n",
              "    </tr>\n",
              "    <tr>\n",
              "      <th>2</th>\n",
              "      <td>2</td>\n",
              "      <td>2022-03-02 20:55:00</td>\n",
              "      <td>Piso 21</td>\n",
              "      <td>Puntos Suspensivos</td>\n",
              "      <td>NaN</td>\n",
              "      <td>NaN</td>\n",
              "      <td>NaN</td>\n",
              "      <td>NaN</td>\n",
              "      <td>NaN</td>\n",
              "      <td>NaN</td>\n",
              "    </tr>\n",
              "    <tr>\n",
              "      <th>3</th>\n",
              "      <td>3</td>\n",
              "      <td>2022-03-02 21:48:00</td>\n",
              "      <td>Piso 21</td>\n",
              "      <td>Me Llamas</td>\n",
              "      <td>NaN</td>\n",
              "      <td>NaN</td>\n",
              "      <td>NaN</td>\n",
              "      <td>NaN</td>\n",
              "      <td>NaN</td>\n",
              "      <td>NaN</td>\n",
              "    </tr>\n",
              "    <tr>\n",
              "      <th>4</th>\n",
              "      <td>4</td>\n",
              "      <td>2022-03-02 21:59:00</td>\n",
              "      <td>Piso 21</td>\n",
              "      <td>Puntos Suspensivos</td>\n",
              "      <td>NaN</td>\n",
              "      <td>NaN</td>\n",
              "      <td>NaN</td>\n",
              "      <td>NaN</td>\n",
              "      <td>NaN</td>\n",
              "      <td>NaN</td>\n",
              "    </tr>\n",
              "    <tr>\n",
              "      <th>...</th>\n",
              "      <td>...</td>\n",
              "      <td>...</td>\n",
              "      <td>...</td>\n",
              "      <td>...</td>\n",
              "      <td>...</td>\n",
              "      <td>...</td>\n",
              "      <td>...</td>\n",
              "      <td>...</td>\n",
              "      <td>...</td>\n",
              "      <td>...</td>\n",
              "    </tr>\n",
              "    <tr>\n",
              "      <th>677</th>\n",
              "      <td>677</td>\n",
              "      <td>2022-05-31 19:10:00</td>\n",
              "      <td>Nirvana</td>\n",
              "      <td>Lithium</td>\n",
              "      <td>32736471.0</td>\n",
              "      <td>2110839.0</td>\n",
              "      <td>Grunge</td>\n",
              "      <td>256000.0</td>\n",
              "      <td>Nevermind</td>\n",
              "      <td>111319.0</td>\n",
              "    </tr>\n",
              "    <tr>\n",
              "      <th>678</th>\n",
              "      <td>678</td>\n",
              "      <td>2022-05-31 19:13:00</td>\n",
              "      <td>The Killers</td>\n",
              "      <td>Mr. Brightside</td>\n",
              "      <td>33550031.0</td>\n",
              "      <td>2177412.0</td>\n",
              "      <td>Indie</td>\n",
              "      <td>222586.0</td>\n",
              "      <td>Hot Fuss</td>\n",
              "      <td>112016.0</td>\n",
              "    </tr>\n",
              "    <tr>\n",
              "      <th>679</th>\n",
              "      <td>679</td>\n",
              "      <td>2022-05-31 19:16:00</td>\n",
              "      <td>Arctic Monkeys</td>\n",
              "      <td>When The Sun Goes Down</td>\n",
              "      <td>32769407.0</td>\n",
              "      <td>2113920.0</td>\n",
              "      <td>Indie</td>\n",
              "      <td>200000.0</td>\n",
              "      <td>Whatever People Say I Am, That's What I'm Not</td>\n",
              "      <td>111644.0</td>\n",
              "    </tr>\n",
              "    <tr>\n",
              "      <th>680</th>\n",
              "      <td>680</td>\n",
              "      <td>2022-05-31 19:16:00</td>\n",
              "      <td>Arctic Monkeys</td>\n",
              "      <td>Why'd You Only Call Me When You're High?</td>\n",
              "      <td>33584144.0</td>\n",
              "      <td>2180196.0</td>\n",
              "      <td>Indie</td>\n",
              "      <td>161000.0</td>\n",
              "      <td>AM</td>\n",
              "      <td>111644.0</td>\n",
              "    </tr>\n",
              "    <tr>\n",
              "      <th>681</th>\n",
              "      <td>681</td>\n",
              "      <td>2022-05-31 19:21:00</td>\n",
              "      <td>Arctic Monkeys</td>\n",
              "      <td>Do I Wanna Know?</td>\n",
              "      <td>33584136.0</td>\n",
              "      <td>2180196.0</td>\n",
              "      <td>Indie</td>\n",
              "      <td>272000.0</td>\n",
              "      <td>AM</td>\n",
              "      <td>111644.0</td>\n",
              "    </tr>\n",
              "  </tbody>\n",
              "</table>\n",
              "<p>682 rows × 10 columns</p>\n",
              "</div>\n",
              "      <button class=\"colab-df-convert\" onclick=\"convertToInteractive('df-e2066e81-5ead-45f9-af1c-a4a648002376')\"\n",
              "              title=\"Convert this dataframe to an interactive table.\"\n",
              "              style=\"display:none;\">\n",
              "        \n",
              "  <svg xmlns=\"http://www.w3.org/2000/svg\" height=\"24px\"viewBox=\"0 0 24 24\"\n",
              "       width=\"24px\">\n",
              "    <path d=\"M0 0h24v24H0V0z\" fill=\"none\"/>\n",
              "    <path d=\"M18.56 5.44l.94 2.06.94-2.06 2.06-.94-2.06-.94-.94-2.06-.94 2.06-2.06.94zm-11 1L8.5 8.5l.94-2.06 2.06-.94-2.06-.94L8.5 2.5l-.94 2.06-2.06.94zm10 10l.94 2.06.94-2.06 2.06-.94-2.06-.94-.94-2.06-.94 2.06-2.06.94z\"/><path d=\"M17.41 7.96l-1.37-1.37c-.4-.4-.92-.59-1.43-.59-.52 0-1.04.2-1.43.59L10.3 9.45l-7.72 7.72c-.78.78-.78 2.05 0 2.83L4 21.41c.39.39.9.59 1.41.59.51 0 1.02-.2 1.41-.59l7.78-7.78 2.81-2.81c.8-.78.8-2.07 0-2.86zM5.41 20L4 18.59l7.72-7.72 1.47 1.35L5.41 20z\"/>\n",
              "  </svg>\n",
              "      </button>\n",
              "      \n",
              "  <style>\n",
              "    .colab-df-container {\n",
              "      display:flex;\n",
              "      flex-wrap:wrap;\n",
              "      gap: 12px;\n",
              "    }\n",
              "\n",
              "    .colab-df-convert {\n",
              "      background-color: #E8F0FE;\n",
              "      border: none;\n",
              "      border-radius: 50%;\n",
              "      cursor: pointer;\n",
              "      display: none;\n",
              "      fill: #1967D2;\n",
              "      height: 32px;\n",
              "      padding: 0 0 0 0;\n",
              "      width: 32px;\n",
              "    }\n",
              "\n",
              "    .colab-df-convert:hover {\n",
              "      background-color: #E2EBFA;\n",
              "      box-shadow: 0px 1px 2px rgba(60, 64, 67, 0.3), 0px 1px 3px 1px rgba(60, 64, 67, 0.15);\n",
              "      fill: #174EA6;\n",
              "    }\n",
              "\n",
              "    [theme=dark] .colab-df-convert {\n",
              "      background-color: #3B4455;\n",
              "      fill: #D2E3FC;\n",
              "    }\n",
              "\n",
              "    [theme=dark] .colab-df-convert:hover {\n",
              "      background-color: #434B5C;\n",
              "      box-shadow: 0px 1px 3px 1px rgba(0, 0, 0, 0.15);\n",
              "      filter: drop-shadow(0px 1px 2px rgba(0, 0, 0, 0.3));\n",
              "      fill: #FFFFFF;\n",
              "    }\n",
              "  </style>\n",
              "\n",
              "      <script>\n",
              "        const buttonEl =\n",
              "          document.querySelector('#df-e2066e81-5ead-45f9-af1c-a4a648002376 button.colab-df-convert');\n",
              "        buttonEl.style.display =\n",
              "          google.colab.kernel.accessAllowed ? 'block' : 'none';\n",
              "\n",
              "        async function convertToInteractive(key) {\n",
              "          const element = document.querySelector('#df-e2066e81-5ead-45f9-af1c-a4a648002376');\n",
              "          const dataTable =\n",
              "            await google.colab.kernel.invokeFunction('convertToInteractive',\n",
              "                                                     [key], {});\n",
              "          if (!dataTable) return;\n",
              "\n",
              "          const docLinkHtml = 'Like what you see? Visit the ' +\n",
              "            '<a target=\"_blank\" href=https://colab.research.google.com/notebooks/data_table.ipynb>data table notebook</a>'\n",
              "            + ' to learn more about interactive tables.';\n",
              "          element.innerHTML = '';\n",
              "          dataTable['output_type'] = 'display_data';\n",
              "          await google.colab.output.renderOutput(dataTable, element);\n",
              "          const docLink = document.createElement('div');\n",
              "          docLink.innerHTML = docLinkHtml;\n",
              "          element.appendChild(docLink);\n",
              "        }\n",
              "      </script>\n",
              "    </div>\n",
              "  </div>\n",
              "  "
            ]
          },
          "metadata": {},
          "execution_count": 15
        }
      ]
    },
    {
      "cell_type": "code",
      "source": [
        "projectfile.to_csv('fileversion1.csv')"
      ],
      "metadata": {
        "id": "zrtGar2aVHCH"
      },
      "execution_count": null,
      "outputs": []
    }
  ]
}